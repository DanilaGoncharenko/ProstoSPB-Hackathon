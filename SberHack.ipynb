{
 "cells": [
  {
   "cell_type": "code",
   "execution_count": 13,
   "metadata": {},
   "outputs": [],
   "source": [
    "import pandas as pd\n",
    "from sklearn.model_selection import train_test_split\n",
    "from sklearn.linear_model import LinearRegression"
   ]
  },
  {
   "cell_type": "code",
   "execution_count": 7,
   "metadata": {},
   "outputs": [
    {
     "data": {
      "application/vnd.microsoft.datawrangler.viewer.v0+json": {
       "columns": [
        {
         "name": "index",
         "rawType": "int64",
         "type": "integer"
        },
        {
         "name": "SMILES",
         "rawType": "object",
         "type": "string"
        },
        {
         "name": "logPerm",
         "rawType": "float64",
         "type": "float"
        }
       ],
       "conversionMethod": "pd.DataFrame",
       "ref": "39dfac09-7899-4151-b461-4cc3417fc2fb",
       "rows": [
        [
         "0",
         "CC1CC2C3CCC(C3(CC(C2(C4(C1=CC(=O)C=C4)C)F)O)C)(C(=O)C)O",
         "5.135798437050262"
        ],
        [
         "1",
         "CC(C1=CC(=C(C=C1)C2=CC=CC=C2)F)C(=O)O",
         "5.3471075307174685"
        ],
        [
         "2",
         "CC(C1=CC(=C(C=C1)C2=CC=CC=C2)F)C(=O)N",
         "5.393627546352362"
        ],
        [
         "3",
         "C(C(CO)O)O",
         "3.80666248977032"
        ],
        [
         "4",
         "CC12CCC(=O)C=C1CCC3C2C(CC4(C3CCC4(C(=O)CO)O)C)O",
         "4.442651256490317"
        ],
        [
         "5",
         "CC(C)CC1=CC=C(C=C1)C(C)C(=O)O",
         "5.393627546352362"
        ],
        [
         "6",
         "CC1=C(C2=C(N1C(=O)C3=CC=C(C=C3)Cl)C=CC(=C2)OC)CC(=O)O",
         "6.536691597591305"
        ],
        [
         "7",
         "C(C1C(C(C(C(O1)OC2(C(C(C(O2)CO)O)O)COC3(C(C(C(O3)CO)O)O)COC4(C(C(C(O4)CO)O)O)COC5(C(C(C(O5)CO)O)O)COC6(C(C(C(O6)CO)O)O)COC7(C(C(C(O7)CO)O)O)COC8(C(C(C(O8)CO)O)O)COC9(C(C(C(O9)CO)O)O)COC1(C(C(C(O1)CO)O)O)COC1(C(C(C(O1)CO)O)O)COC1(C(C(C(O1)CO)O)O)COC1(C(C(C(O1)CO)O)O)COC1(C(C(C(O1)CO)O)O)COC1(C(C(C(O1)CO)O)O)COC1(C(C(C(O1)CO)O)O)COC1(C(C(C(O1)CO)O)O)COC1(C(C(C(O1)CO)O)O)COC1(C(C(C(O1)CO)O)O)COC1(C(C(C(O1)CO)O)O)COC1(C(C(C(O1)CO)O)O)COC1(C(C(C(O1)CO)O)O)COC1(C(C(C(O1)CO)O)O)COC1(C(C(C(O1)CO)O)O)COC1(C(C(C(O1)CO)O)O)COC1(C(C(C(O1)CO)O)O)COC1(C(C(C(O1)CO)O)O)COC1(C(C(C(O1)CO)O)O)COC1(C(C(C(O1)CO)O)O)COC1(C(C(C(O1)CO)O)O)COC1(C(C(C(O1)CO)O)O)COC1(C(C(C(O1)CO)O)O)COC1(C(C(C(O1)CO)O)O)COC1(C(C(C(O1)CO)O)O)COC1(C(C(C(O1)CO)O)O)COC1(C(C(C(O1)CO)O)O)COC1(C(C(C(O1)CO)O)O)COC1(C(C(C(O1)CO)O)O)CO)O)O)O)O",
         "1.7047480922384253"
        ],
        [
         "8",
         "CC(CCC1=CC=CC=C1)NCC(C2=CC(=C(C=C2)O)C(=O)N)O",
         "4.941642422609304"
        ],
        [
         "9",
         "CC(C)(C)NCC(COC1=CC=CC2=C1CCCC2=O)O",
         "5.669880923"
        ],
        [
         "10",
         "C(C(C(C(C(CO)O)O)O)O)O",
         "3.1780538303479458"
        ],
        [
         "11",
         "CC(=O)N=C1N(N=C(S1)S(=O)(=O)N)C",
         "3.258096538021482"
        ],
        [
         "12",
         "CN1C(=N)SC(=N1)S(=O)(=O)N",
         "2.0541237336955462"
        ],
        [
         "13",
         "C1=CC=C(C=C1)NCNC2=CC=CC=C2",
         "5.521460917862246"
        ],
        [
         "14",
         "CC(C)NCC(COC1=CC=C(C=C1)CCOC)O",
         "5.634789603169249"
        ],
        [
         "15",
         "CC(C)CNC1CCS(=O)(=O)C2=C1C=C(S2)S(=O)(=O)N.Cl",
         "3.828641396489095"
        ],
        [
         "16",
         "CC(C)(C)NCC(COC1=CC=CC2=C1CC(C(C2)O)O)O",
         "2.6390573296152584"
        ],
        [
         "17",
         "CC(=O)OC1CC2=C(CC1OC(=O)C)C(=CC=C2)OCC(CNC(C)(C)C)O",
         "3.871201010907891"
        ],
        [
         "18",
         "CC(C)NCC(COC1=CC=CC=C1OCC=C)O",
         "5.768320995793772"
        ],
        [
         "19",
         "CC(C)(C)NCC(COC1=CC=CC=C1C2CCCC2)O",
         "5.393627546352362"
        ],
        [
         "20",
         "CNCC(C1=CC(=CC=C1)O)O",
         "2.2407096892759584"
        ],
        [
         "21",
         "CCC1C(COC1=O)CC2=CN=CN2C",
         "5.135798437050262"
        ],
        [
         "22",
         "CC(C)NCC(COC1=CC=CC2=C1C=CN2)O",
         "4.605170185988092"
        ],
        [
         "23",
         "CC12CC(C3C(C1CCC2(C(=O)CO)O)CCC4=CC(=O)C=CC34C)O",
         "3.610917912644224"
        ],
        [
         "24",
         "CC(=O)OCC(=O)C1(CCC2C1(CC(C3C2CCC4=CC(=O)C=CC34C)O)C)O",
         "5.799092654460526"
        ],
        [
         "25",
         "CCN(CC)CCOC(=O)C1=CC=C(C=C1)N",
         "3.737669618283368"
        ],
        [
         "26",
         "CC(=O)C1CCC2C1(CCC3C2CCC4=CC(=O)CCC34C)C",
         "5.298317366548037"
        ],
        [
         "27",
         "CC(C)NCC(COC1=CC=CC2=CC=CC=C21)O",
         "5.736572297479192"
        ],
        [
         "28",
         "CCC1C2CC3C4C5(CC(C2C5O)N3C1O)C6=CC=CC=C6N4C",
         "4.5217885770490405"
        ],
        [
         "29",
         "COC1=C2CCNCC2=C(C=C1)OC",
         "6.194405391104672"
        ],
        [
         "30",
         "CN1CCC2=C(CC1)C(=CC=C2)Cl",
         "6.565264970035361"
        ],
        [
         "31",
         "CC(C)NCC(C1=CC=C(C=C1)NS(=O)(=O)C)O",
         "1.9459101490553128"
        ],
        [
         "32",
         "C(C1C(C(C(C(O1)OC2(C(C(C(O2)CO)O)O)CO)O)O)O)O",
         "3.7612001156935615"
        ],
        [
         "33",
         "CC(=O)NS(=O)(=O)C1=CC=C(C=C1)N",
         "2.9444389791664403"
        ],
        [
         "34",
         "C1=CC(=CC=C1N)S(=O)(=O)N",
         "1.6094379124341005"
        ],
        [
         "35",
         "C1=CC=C2C(=C1)NC(=N2)S(=O)(=O)N",
         "3.4011973816621555"
        ],
        [
         "36",
         "CNS(=O)(=O)C1=CC=C(C=C1)Cl",
         "6.476972362889683"
        ],
        [
         "37",
         "C1=CC(=CC=C1S(=O)(=O)N)Cl",
         "6.309918278226516"
        ],
        [
         "38",
         "CC12CCC3C(C1CCC2O)CCC4=CC(=O)CCC34C",
         "6.040254711277414"
        ],
        [
         "39",
         "CCCCNC1=CC=C(C=C1)C(=O)OCCN(C)C",
         "2.708050201"
        ],
        [
         "40",
         "C1=CC=C(C=C1)N=C2N3C(=NS2)SC(=N3)S(=O)(=O)N",
         "4.3694478524670215"
        ],
        [
         "41",
         "C1=CC(=CC(=C1)Cl)N=C2N3C(=NS2)SC(=N3)S(=O)(=O)N",
         "4.867534450455582"
        ],
        [
         "42",
         "C1=CC(=CC=C1N=C2N3C(=NS2)SC(=N3)S(=O)(=O)N)Cl",
         "4.418840607796598"
        ],
        [
         "43",
         "COC1=CC=CC(=C1)N=C2N3C(=NS2)SC(=N3)S(=O)(=O)N",
         "3.80666248977032"
        ],
        [
         "44",
         "COC1=CC=C(C=C1)N=C2N3C(=NS2)SC(=N3)S(=O)(=O)N",
         "3.951243718581428"
        ],
        [
         "45",
         "C1=CC(=CC=C1N=C2N3C(=NS2)SC(=N3)S(=O)(=O)N)O",
         "1.252762968495368"
        ],
        [
         "46",
         "CCCC(=O)NC1=CC(=C(C=C1)OCC(CNC(C)C)O)C(=O)C",
         "2.3978952727983707"
        ],
        [
         "47",
         "CC(=O)NC1=NN=C(S1)S(=O)(=O)N",
         "2.251291798606496"
        ],
        [
         "48",
         "C1=CC=C(C=C1)C(=O)NC2=NN=C(S2)S(=O)(=O)N",
         "1.791759469228055"
        ],
        [
         "49",
         "C1(=NN=C(S1)[S](=O)(=O)N([H])[H])N(C(=O)CCC(C)=C)[H]",
         "1.7227665977411035"
        ]
       ],
       "shape": {
        "columns": 2,
        "rows": 120
       }
      },
      "text/html": [
       "<div>\n",
       "<style scoped>\n",
       "    .dataframe tbody tr th:only-of-type {\n",
       "        vertical-align: middle;\n",
       "    }\n",
       "\n",
       "    .dataframe tbody tr th {\n",
       "        vertical-align: top;\n",
       "    }\n",
       "\n",
       "    .dataframe thead th {\n",
       "        text-align: right;\n",
       "    }\n",
       "</style>\n",
       "<table border=\"1\" class=\"dataframe\">\n",
       "  <thead>\n",
       "    <tr style=\"text-align: right;\">\n",
       "      <th></th>\n",
       "      <th>SMILES</th>\n",
       "      <th>logPerm</th>\n",
       "    </tr>\n",
       "  </thead>\n",
       "  <tbody>\n",
       "    <tr>\n",
       "      <th>0</th>\n",
       "      <td>CC1CC2C3CCC(C3(CC(C2(C4(C1=CC(=O)C=C4)C)F)O)C)...</td>\n",
       "      <td>5.135798</td>\n",
       "    </tr>\n",
       "    <tr>\n",
       "      <th>1</th>\n",
       "      <td>CC(C1=CC(=C(C=C1)C2=CC=CC=C2)F)C(=O)O</td>\n",
       "      <td>5.347108</td>\n",
       "    </tr>\n",
       "    <tr>\n",
       "      <th>2</th>\n",
       "      <td>CC(C1=CC(=C(C=C1)C2=CC=CC=C2)F)C(=O)N</td>\n",
       "      <td>5.393628</td>\n",
       "    </tr>\n",
       "    <tr>\n",
       "      <th>3</th>\n",
       "      <td>C(C(CO)O)O</td>\n",
       "      <td>3.806662</td>\n",
       "    </tr>\n",
       "    <tr>\n",
       "      <th>4</th>\n",
       "      <td>CC12CCC(=O)C=C1CCC3C2C(CC4(C3CCC4(C(=O)CO)O)C)O</td>\n",
       "      <td>4.442651</td>\n",
       "    </tr>\n",
       "    <tr>\n",
       "      <th>...</th>\n",
       "      <td>...</td>\n",
       "      <td>...</td>\n",
       "    </tr>\n",
       "    <tr>\n",
       "      <th>115</th>\n",
       "      <td>C1CN2C(=CC=C2C(=O)C3=CC=CC=C3)C1C(=O)O</td>\n",
       "      <td>1.249902</td>\n",
       "    </tr>\n",
       "    <tr>\n",
       "      <th>116</th>\n",
       "      <td>CC1CN(CCC1(C2=CC=CC=C2)C(=O)O)C3CCC(CC3)(C#N)C...</td>\n",
       "      <td>1.406097</td>\n",
       "    </tr>\n",
       "    <tr>\n",
       "      <th>117</th>\n",
       "      <td>COC1=CC2=C(C=CN=C2C=C1)C(C3CC4CCN3CC4C=C)O</td>\n",
       "      <td>2.161022</td>\n",
       "    </tr>\n",
       "    <tr>\n",
       "      <th>118</th>\n",
       "      <td>C1CN=C(N1)NC2=C(C=CC3=NSN=C32)Cl</td>\n",
       "      <td>3.850998</td>\n",
       "    </tr>\n",
       "    <tr>\n",
       "      <th>119</th>\n",
       "      <td>CC(C1=NC=NC=C1F)C(CN2C=NC=N2)(C3=C(C=C(C=C3)F)F)O</td>\n",
       "      <td>3.455686</td>\n",
       "    </tr>\n",
       "  </tbody>\n",
       "</table>\n",
       "<p>120 rows × 2 columns</p>\n",
       "</div>"
      ],
      "text/plain": [
       "                                                SMILES   logPerm\n",
       "0    CC1CC2C3CCC(C3(CC(C2(C4(C1=CC(=O)C=C4)C)F)O)C)...  5.135798\n",
       "1                CC(C1=CC(=C(C=C1)C2=CC=CC=C2)F)C(=O)O  5.347108\n",
       "2                CC(C1=CC(=C(C=C1)C2=CC=CC=C2)F)C(=O)N  5.393628\n",
       "3                                           C(C(CO)O)O  3.806662\n",
       "4      CC12CCC(=O)C=C1CCC3C2C(CC4(C3CCC4(C(=O)CO)O)C)O  4.442651\n",
       "..                                                 ...       ...\n",
       "115             C1CN2C(=CC=C2C(=O)C3=CC=CC=C3)C1C(=O)O  1.249902\n",
       "116  CC1CN(CCC1(C2=CC=CC=C2)C(=O)O)C3CCC(CC3)(C#N)C...  1.406097\n",
       "117         COC1=CC2=C(C=CN=C2C=C1)C(C3CC4CCN3CC4C=C)O  2.161022\n",
       "118                   C1CN=C(N1)NC2=C(C=CC3=NSN=C32)Cl  3.850998\n",
       "119  CC(C1=NC=NC=C1F)C(CN2C=NC=N2)(C3=C(C=C(C=C3)F)F)O  3.455686\n",
       "\n",
       "[120 rows x 2 columns]"
      ]
     },
     "metadata": {},
     "output_type": "display_data"
    },
    {
     "data": {
      "application/vnd.microsoft.datawrangler.viewer.v0+json": {
       "columns": [
        {
         "name": "index",
         "rawType": "int64",
         "type": "integer"
        },
        {
         "name": "SMILES",
         "rawType": "object",
         "type": "string"
        },
        {
         "name": "Class",
         "rawType": "int64",
         "type": "integer"
        }
       ],
       "conversionMethod": "pd.DataFrame",
       "ref": "a5bd2f29-f577-49d6-a967-dec5206d6980",
       "rows": [
        [
         "0",
         "CC#CC",
         "1"
        ],
        [
         "1",
         "CCC=C",
         "1"
        ],
        [
         "2",
         "O=CC=O",
         "1"
        ],
        [
         "3",
         "CCC=O",
         "1"
        ],
        [
         "4",
         "FCC#N",
         "1"
        ],
        [
         "5",
         "CC=NO",
         "1"
        ],
        [
         "6",
         "COC=O",
         "1"
        ],
        [
         "7",
         "CC(C)O",
         "1"
        ],
        [
         "8",
         "CCS",
         "1"
        ],
        [
         "9",
         "CCCl",
         "1"
        ],
        [
         "10",
         "N#CC1CC1",
         "1"
        ],
        [
         "11",
         "CC=CC#N",
         "1"
        ],
        [
         "12",
         "CC(=O)C#C",
         "1"
        ],
        [
         "13",
         "c1cn[nH]c1",
         "1"
        ],
        [
         "14",
         "C=NCC#N",
         "1"
        ],
        [
         "15",
         "C/C=C\\C=C",
         "1"
        ],
        [
         "16",
         "C1CC=CC1",
         "1"
        ],
        [
         "17",
         "CC(=C=C)C",
         "1"
        ],
        [
         "18",
         "CCCC#C",
         "1"
        ],
        [
         "19",
         "CCC#CC",
         "1"
        ],
        [
         "20",
         "c1nnc[nH]1",
         "1"
        ],
        [
         "21",
         "c1c[nH]nn1",
         "1"
        ],
        [
         "22",
         "CC(C)C#N",
         "1"
        ],
        [
         "23",
         "c1nnn[nH]1",
         "1"
        ],
        [
         "24",
         "CC=CC=O",
         "1"
        ],
        [
         "25",
         "CC(O)C#C",
         "1"
        ],
        [
         "26",
         "C=CC1CO1",
         "1"
        ],
        [
         "27",
         "CC#CCO",
         "1"
        ],
        [
         "28",
         "OCCC#C",
         "1"
        ],
        [
         "29",
         "COCC#C",
         "1"
        ],
        [
         "30",
         "C1CCCC1",
         "1"
        ],
        [
         "31",
         "C/C=C\\CC",
         "1"
        ],
        [
         "32",
         "NC(=O)C=C",
         "1"
        ],
        [
         "33",
         "OCCC#N",
         "1"
        ],
        [
         "34",
         "CCN=C=O",
         "1"
        ],
        [
         "35",
         "CCCC=O",
         "1"
        ],
        [
         "36",
         "CCC1CO1",
         "1"
        ],
        [
         "37",
         "CCOC=C",
         "1"
        ],
        [
         "38",
         "C1CCOC1",
         "1"
        ],
        [
         "39",
         "CC(=C)CO",
         "1"
        ],
        [
         "40",
         "OCCC=C",
         "1"
        ],
        [
         "41",
         "CC=CCO",
         "1"
        ],
        [
         "42",
         "CC1(C)CO1",
         "1"
        ],
        [
         "43",
         "CC1OC1C",
         "1"
        ],
        [
         "44",
         "COCC=C",
         "1"
        ],
        [
         "45",
         "CCC(C)C",
         "1"
        ],
        [
         "46",
         "CCNC=O",
         "1"
        ],
        [
         "47",
         "CNC(=O)C",
         "1"
        ],
        [
         "48",
         "CN=C=S",
         "1"
        ],
        [
         "49",
         "CCB(O)O",
         "1"
        ]
       ],
       "shape": {
        "columns": 2,
        "rows": 5220
       }
      },
      "text/html": [
       "<div>\n",
       "<style scoped>\n",
       "    .dataframe tbody tr th:only-of-type {\n",
       "        vertical-align: middle;\n",
       "    }\n",
       "\n",
       "    .dataframe tbody tr th {\n",
       "        vertical-align: top;\n",
       "    }\n",
       "\n",
       "    .dataframe thead th {\n",
       "        text-align: right;\n",
       "    }\n",
       "</style>\n",
       "<table border=\"1\" class=\"dataframe\">\n",
       "  <thead>\n",
       "    <tr style=\"text-align: right;\">\n",
       "      <th></th>\n",
       "      <th>SMILES</th>\n",
       "      <th>Class</th>\n",
       "    </tr>\n",
       "  </thead>\n",
       "  <tbody>\n",
       "    <tr>\n",
       "      <th>0</th>\n",
       "      <td>CC#CC</td>\n",
       "      <td>1</td>\n",
       "    </tr>\n",
       "    <tr>\n",
       "      <th>1</th>\n",
       "      <td>CCC=C</td>\n",
       "      <td>1</td>\n",
       "    </tr>\n",
       "    <tr>\n",
       "      <th>2</th>\n",
       "      <td>O=CC=O</td>\n",
       "      <td>1</td>\n",
       "    </tr>\n",
       "    <tr>\n",
       "      <th>3</th>\n",
       "      <td>CCC=O</td>\n",
       "      <td>1</td>\n",
       "    </tr>\n",
       "    <tr>\n",
       "      <th>4</th>\n",
       "      <td>FCC#N</td>\n",
       "      <td>1</td>\n",
       "    </tr>\n",
       "    <tr>\n",
       "      <th>...</th>\n",
       "      <td>...</td>\n",
       "      <td>...</td>\n",
       "    </tr>\n",
       "    <tr>\n",
       "      <th>5215</th>\n",
       "      <td>CC1OC(CC(O)C1O)OC2C(O)CC(OC3C(O)CC(OC4CCC5(C)C...</td>\n",
       "      <td>0</td>\n",
       "    </tr>\n",
       "    <tr>\n",
       "      <th>5216</th>\n",
       "      <td>CC1OC(CC(O)C1O)OC2C(O)CC(OC3C(O)CC(OC4CCC5(C)C...</td>\n",
       "      <td>0</td>\n",
       "    </tr>\n",
       "    <tr>\n",
       "      <th>5217</th>\n",
       "      <td>CN(C(=O)C)c1c(I)c(NC(=O)C)c(I)c(C(=O)NC(C=O)C(...</td>\n",
       "      <td>0</td>\n",
       "    </tr>\n",
       "    <tr>\n",
       "      <th>5218</th>\n",
       "      <td>CC(=O)N(CC(O)CO)c1c(I)c(C(=O)NCCO)c(I)c(C(=O)N...</td>\n",
       "      <td>0</td>\n",
       "    </tr>\n",
       "    <tr>\n",
       "      <th>5219</th>\n",
       "      <td>COC1C(O)CC(OC2C(O)CC(OC3C(O)CC(OC4CCC5(C)C(CCC...</td>\n",
       "      <td>0</td>\n",
       "    </tr>\n",
       "  </tbody>\n",
       "</table>\n",
       "<p>5220 rows × 2 columns</p>\n",
       "</div>"
      ],
      "text/plain": [
       "                                                 SMILES  Class\n",
       "0                                                 CC#CC      1\n",
       "1                                                 CCC=C      1\n",
       "2                                                O=CC=O      1\n",
       "3                                                 CCC=O      1\n",
       "4                                                 FCC#N      1\n",
       "...                                                 ...    ...\n",
       "5215  CC1OC(CC(O)C1O)OC2C(O)CC(OC3C(O)CC(OC4CCC5(C)C...      0\n",
       "5216  CC1OC(CC(O)C1O)OC2C(O)CC(OC3C(O)CC(OC4CCC5(C)C...      0\n",
       "5217  CN(C(=O)C)c1c(I)c(NC(=O)C)c(I)c(C(=O)NC(C=O)C(...      0\n",
       "5218  CC(=O)N(CC(O)CO)c1c(I)c(C(=O)NCCO)c(I)c(C(=O)N...      0\n",
       "5219  COC1C(O)CC(OC2C(O)CC(OC3C(O)CC(OC4CCC5(C)C(CCC...      0\n",
       "\n",
       "[5220 rows x 2 columns]"
      ]
     },
     "metadata": {},
     "output_type": "display_data"
    },
    {
     "data": {
      "application/vnd.microsoft.datawrangler.viewer.v0+json": {
       "columns": [
        {
         "name": "index",
         "rawType": "int64",
         "type": "integer"
        },
        {
         "name": "SMILES",
         "rawType": "object",
         "type": "string"
        },
        {
         "name": "Class",
         "rawType": "int64",
         "type": "integer"
        }
       ],
       "conversionMethod": "pd.DataFrame",
       "ref": "5e895c05-ecc6-4210-adc2-f16c784f77e9",
       "rows": [
        [
         "0",
         "CCN(CC)CCNC(=O)c1ccc(cc1)N.Cl",
         "1"
        ],
        [
         "1",
         "COCCNC(=O)CN1C2CCC1CC(C2)(c3cccnc3)O",
         "1"
        ],
        [
         "2",
         "CC1=NN=C(c2cc3c(cc2C1)OCO3)c4ccc(cc4)N",
         "1"
        ],
        [
         "3",
         "CC1C2Cc3ccc(cc3C1(CCN2CC=C)C)O",
         "1"
        ],
        [
         "4",
         "COc1ccc(cc1)c2coc3cc(ccc3c2=O)OC",
         "1"
        ],
        [
         "5",
         "c1cc(oc1)c2nc3c4cc(ccc4nc(n3n2)N)Cl",
         "1"
        ],
        [
         "6",
         "Cc1ccc(cc1)N(CC2=NCCN2)c3cccc(c3)O",
         "1"
        ],
        [
         "7",
         "COc1ccc2c(c1)c(c[nH]2)C3=CCNCC3",
         "0"
        ],
        [
         "8",
         "COc1ccc(cc1OC)Cc2cnc(nc2N)N",
         "1"
        ],
        [
         "9",
         "CC1C(CCN1Cc2ccccc2)NC(=O)c3cc(c(cc3OC)NC)Cl",
         "0"
        ],
        [
         "10",
         "CCN(CC)CCNc1ccc(c2c1c(=O)c3ccccc3s2)CO",
         "0"
        ],
        [
         "11",
         "Cc1cc2c(s1)Nc3ccccc3N=C2N4CCN(CC4)C",
         "0"
        ],
        [
         "12",
         "c1ccc2c(c1)OCC(O2)CN3CCCCC3",
         "1"
        ],
        [
         "13",
         "CC(c1cc2cccnc2s1)N(C(=O)N)O",
         "1"
        ],
        [
         "14",
         "CC(C)(C)NCC(COc1cccc2c1CCC(=O)N2)O",
         "1"
        ],
        [
         "15",
         "c1ccc(cc1)c2c([n+]3cccc(c3s2)[N+](=O)[O-])[O-]",
         "1"
        ],
        [
         "16",
         "CN1CCN(CC1)C2=Nc3ccccc3Sc4c2cc(cc4)Cl",
         "1"
        ],
        [
         "17",
         "c1cc(ccc1N)S(=O)(=O)c2ccc(cc2)N",
         "1"
        ],
        [
         "18",
         "Cc1c(c(=O)oc2c1ccc(c2)OCCCN3CCN(CC3)c4ccccc4)C",
         "0"
        ],
        [
         "19",
         "C[C@@H]1CCCN1CCc2cc3cc(ccc3o2)c4ccc(cc4)C#N",
         "0"
        ],
        [
         "20",
         "CC1CCCN1CCc2cc3cc(ccc3o2)c4ccc(cc4)C#N",
         "1"
        ],
        [
         "21",
         "COc1cc(ccc1O)/C=C/c2cc(on2)/C=C/c3ccc(c(c3)OC)O",
         "0"
        ],
        [
         "22",
         "COc1c(cc2c(c1O)c(=O)cc(o2)c3ccccc3)O",
         "0"
        ],
        [
         "23",
         "CC(C)(C)c1nc(cc(n1)N2CCN(CC2)CCCSc3nccc(n3)O)C(F)(F)F",
         "1"
        ],
        [
         "24",
         "CN1CCc2cc(c(cc2C1Cc3ccc(c(c3)OC)OC)OC)OC",
         "1"
        ],
        [
         "25",
         "COCCCC/C(=N\\OCCN)/c1ccc(cc1)C(F)(F)F.C(=C\\C(=O)O)\\C(=O)O",
         "1"
        ],
        [
         "26",
         "c1cc(ccc1/C=C/C(=O)N2CCC[C@H]2CN3CCCC3)C(F)(F)F",
         "1"
        ],
        [
         "27",
         "C[C@]12CC[C@H]3[C@H]([C@@H]1CC[C@@H]2O)CCC4=CC(=O)CC[C@]34C",
         "1"
        ],
        [
         "28",
         "c1nc2c(=O)[nH]c(nc2n1COCCO)N",
         "1"
        ],
        [
         "29",
         "CC#CCn1c2c(nc1N3CCC[C@H](C3)N)n(c(=O)n(c2=O)Cc4nc(c5ccccc5n4)C)C",
         "1"
        ],
        [
         "30",
         "COc1cccc(c1)C2c3c(c4ccccc4[nH]3)CCN2",
         "1"
        ],
        [
         "31",
         "c1ccc2c(c1)N(c3cc(ccc3S2)C#N)CCCN4CCC(CC4)O",
         "0"
        ],
        [
         "32",
         "Cn1cnc(c1Sc2c3c([nH]cn3)ncn2)[N+](=O)[O-]",
         "1"
        ],
        [
         "33",
         "c1cc(c(cc1Cl)Cl)COC(Cn2ccnc2)c3ccc(cc3Cl)Cl.[N+](=O)(O)[O-]",
         "0"
        ],
        [
         "34",
         "COc1cc2c(cc1O)C(NCC2)Cc3ccc(cc3)O",
         "1"
        ],
        [
         "35",
         "CN1CCC(CC1)OC(c2ccccc2)c3ccccc3.Cl",
         "1"
        ],
        [
         "36",
         "CC(=O)Nc1c-2sscc2n(c1=O)C",
         "1"
        ],
        [
         "37",
         "COc1cccc(c1OCCNCC2COc3ccccc3O2)OC.Cl",
         "1"
        ],
        [
         "38",
         "c1ccc(cc1)C2CN3CCSC3=N2.Cl",
         "1"
        ],
        [
         "39",
         "CCN(CC)CCOC(=O)C(c1ccccc1)c2ccccc2.Cl",
         "1"
        ],
        [
         "40",
         "c1ccc(c(c1)CN2CCc3c(ccs3)C2)Cl.Cl",
         "1"
        ],
        [
         "41",
         "CC(c1cccc2c1cccc2)c3c[nH]cn3.Cl",
         "1"
        ],
        [
         "42",
         "c1ccc2c(c1)n(c(=N)n2CC(COc3ccc(cc3)Cl)O)CCN4CCCCC4.Cl",
         "0"
        ],
        [
         "43",
         "CC(C)(C)OC(=O)N1CCC(CC1)OCc2nc(no2)c3ccncc3",
         "1"
        ],
        [
         "44",
         "CC1(CON(C1=O)Cc2ccccc2Cl)C",
         "1"
        ],
        [
         "45",
         "CCC(=O)N(c1ccccc1)C2CCN(CC2)CCc3ccccc3.Cl",
         "1"
        ],
        [
         "46",
         "CC(Cc1ccc2c(c1)OCO2)NCC(c3ccc(c(c3)O)O)O",
         "1"
        ],
        [
         "47",
         "C#CCN1c2ccc(cc2C(=NCC1=O)c3ccccc3)Cl",
         "1"
        ],
        [
         "48",
         "c1cc2c(cc1C(=O)N3CCCCC3)OCCO2",
         "1"
        ],
        [
         "49",
         "CNCCC(c1ccccc1)Oc2ccccc2OC.Cl",
         "1"
        ]
       ],
       "shape": {
        "columns": 2,
        "rows": 780
       }
      },
      "text/html": [
       "<div>\n",
       "<style scoped>\n",
       "    .dataframe tbody tr th:only-of-type {\n",
       "        vertical-align: middle;\n",
       "    }\n",
       "\n",
       "    .dataframe tbody tr th {\n",
       "        vertical-align: top;\n",
       "    }\n",
       "\n",
       "    .dataframe thead th {\n",
       "        text-align: right;\n",
       "    }\n",
       "</style>\n",
       "<table border=\"1\" class=\"dataframe\">\n",
       "  <thead>\n",
       "    <tr style=\"text-align: right;\">\n",
       "      <th></th>\n",
       "      <th>SMILES</th>\n",
       "      <th>Class</th>\n",
       "    </tr>\n",
       "  </thead>\n",
       "  <tbody>\n",
       "    <tr>\n",
       "      <th>0</th>\n",
       "      <td>CCN(CC)CCNC(=O)c1ccc(cc1)N.Cl</td>\n",
       "      <td>1</td>\n",
       "    </tr>\n",
       "    <tr>\n",
       "      <th>1</th>\n",
       "      <td>COCCNC(=O)CN1C2CCC1CC(C2)(c3cccnc3)O</td>\n",
       "      <td>1</td>\n",
       "    </tr>\n",
       "    <tr>\n",
       "      <th>2</th>\n",
       "      <td>CC1=NN=C(c2cc3c(cc2C1)OCO3)c4ccc(cc4)N</td>\n",
       "      <td>1</td>\n",
       "    </tr>\n",
       "    <tr>\n",
       "      <th>3</th>\n",
       "      <td>CC1C2Cc3ccc(cc3C1(CCN2CC=C)C)O</td>\n",
       "      <td>1</td>\n",
       "    </tr>\n",
       "    <tr>\n",
       "      <th>4</th>\n",
       "      <td>COc1ccc(cc1)c2coc3cc(ccc3c2=O)OC</td>\n",
       "      <td>1</td>\n",
       "    </tr>\n",
       "    <tr>\n",
       "      <th>...</th>\n",
       "      <td>...</td>\n",
       "      <td>...</td>\n",
       "    </tr>\n",
       "    <tr>\n",
       "      <th>775</th>\n",
       "      <td>c1ccc(cc1)c2cc(nc(n2)N)c3[nH]c4c(n3)cccn4</td>\n",
       "      <td>0</td>\n",
       "    </tr>\n",
       "    <tr>\n",
       "      <th>776</th>\n",
       "      <td>COc1ccc(cc1S(=O)(=O)N2CCc3c2cc(cc3)C(=O)Nc4nc(...</td>\n",
       "      <td>1</td>\n",
       "    </tr>\n",
       "    <tr>\n",
       "      <th>777</th>\n",
       "      <td>Cn1ccnc1c2c(cnc(n2)NCCOC)c3cccc(c3)OC</td>\n",
       "      <td>1</td>\n",
       "    </tr>\n",
       "    <tr>\n",
       "      <th>778</th>\n",
       "      <td>Cc1cnc(s1)Nc2c(nccn2)C3CCN(CC3)C</td>\n",
       "      <td>0</td>\n",
       "    </tr>\n",
       "    <tr>\n",
       "      <th>779</th>\n",
       "      <td>CCN1CCN(CC1)c2ncc(c(n2)c3ccoc3C)c4cc(no4)C</td>\n",
       "      <td>1</td>\n",
       "    </tr>\n",
       "  </tbody>\n",
       "</table>\n",
       "<p>780 rows × 2 columns</p>\n",
       "</div>"
      ],
      "text/plain": [
       "                                                SMILES  Class\n",
       "0                        CCN(CC)CCNC(=O)c1ccc(cc1)N.Cl      1\n",
       "1                 COCCNC(=O)CN1C2CCC1CC(C2)(c3cccnc3)O      1\n",
       "2               CC1=NN=C(c2cc3c(cc2C1)OCO3)c4ccc(cc4)N      1\n",
       "3                       CC1C2Cc3ccc(cc3C1(CCN2CC=C)C)O      1\n",
       "4                     COc1ccc(cc1)c2coc3cc(ccc3c2=O)OC      1\n",
       "..                                                 ...    ...\n",
       "775          c1ccc(cc1)c2cc(nc(n2)N)c3[nH]c4c(n3)cccn4      0\n",
       "776  COc1ccc(cc1S(=O)(=O)N2CCc3c2cc(cc3)C(=O)Nc4nc(...      1\n",
       "777              Cn1ccnc1c2c(cnc(n2)NCCOC)c3cccc(c3)OC      1\n",
       "778                   Cc1cnc(s1)Nc2c(nccn2)C3CCN(CC3)C      0\n",
       "779         CCN1CCN(CC1)c2ncc(c(n2)c3ccoc3C)c4cc(no4)C      1\n",
       "\n",
       "[780 rows x 2 columns]"
      ]
     },
     "metadata": {},
     "output_type": "display_data"
    }
   ],
   "source": [
    "corneal = pd.read_csv('corneal.csv')\n",
    "irritation = pd.read_csv('irritation.csv')\n",
    "melanin = pd.read_csv('melanin.csv')\n",
    "#cox2 = pd.read_pdb('COX-2.pdb')\n",
    "display(corneal)\n",
    "display(irritation)\n",
    "display(melanin)"
   ]
  },
  {
   "cell_type": "code",
   "execution_count": 9,
   "metadata": {},
   "outputs": [
    {
     "name": "stdout",
     "output_type": "stream",
     "text": [
      "<class 'pandas.core.frame.DataFrame'>\n",
      "RangeIndex: 120 entries, 0 to 119\n",
      "Data columns (total 2 columns):\n",
      " #   Column   Non-Null Count  Dtype  \n",
      "---  ------   --------------  -----  \n",
      " 0   SMILES   120 non-null    object \n",
      " 1   logPerm  120 non-null    float64\n",
      "dtypes: float64(1), object(1)\n",
      "memory usage: 2.0+ KB\n"
     ]
    }
   ],
   "source": [
    "corneal.info()"
   ]
  },
  {
   "cell_type": "code",
   "execution_count": 15,
   "metadata": {},
   "outputs": [
    {
     "name": "stdout",
     "output_type": "stream",
     "text": [
      "                                                SMILES\n",
      "0    CC1CC2C3CCC(C3(CC(C2(C4(C1=CC(=O)C=C4)C)F)O)C)...\n",
      "1                CC(C1=CC(=C(C=C1)C2=CC=CC=C2)F)C(=O)O\n",
      "2                CC(C1=CC(=C(C=C1)C2=CC=CC=C2)F)C(=O)N\n",
      "3                                           C(C(CO)O)O\n",
      "4      CC12CCC(=O)C=C1CCC3C2C(CC4(C3CCC4(C(=O)CO)O)C)O\n",
      "..                                                 ...\n",
      "115             C1CN2C(=CC=C2C(=O)C3=CC=CC=C3)C1C(=O)O\n",
      "116  CC1CN(CCC1(C2=CC=CC=C2)C(=O)O)C3CCC(CC3)(C#N)C...\n",
      "117         COC1=CC2=C(C=CN=C2C=C1)C(C3CC4CCN3CC4C=C)O\n",
      "118                   C1CN=C(N1)NC2=C(C=CC3=NSN=C32)Cl\n",
      "119  CC(C1=NC=NC=C1F)C(CN2C=NC=N2)(C3=C(C=C(C=C3)F)F)O\n",
      "\n",
      "[120 rows x 1 columns]\n",
      "0      5.135798\n",
      "1      5.347108\n",
      "2      5.393628\n",
      "3      3.806662\n",
      "4      4.442651\n",
      "         ...   \n",
      "115    1.249902\n",
      "116    1.406097\n",
      "117    2.161022\n",
      "118    3.850998\n",
      "119    3.455686\n",
      "Name: logPerm, Length: 120, dtype: float64\n"
     ]
    }
   ],
   "source": [
    "X = corneal.iloc[:, :-1]\n",
    "y = corneal.iloc[:, -1]\n",
    "print(X)\n",
    "print(y)"
   ]
  },
  {
   "cell_type": "code",
   "execution_count": 17,
   "metadata": {},
   "outputs": [],
   "source": [
    "from rdkit import Chem\n",
    "from rdkit.Chem import Descriptors\n",
    "import pandas as pd\n",
    "\n",
    "def smiles_to_descriptors(smiles):\n",
    "    mol = Chem.MolFromSmiles(smiles)\n",
    "    if mol is None:\n",
    "        return None\n",
    "    descriptors = {\n",
    "        'MolWt': Descriptors.MolWt(mol),\n",
    "        'LogP': Descriptors.MolLogP(mol),\n",
    "        'NumHDonors': Descriptors.NumHDonors(mol),\n",
    "        'NumHAcceptors': Descriptors.NumHAcceptors(mol),\n",
    "        'NumRotatableBonds': Descriptors.NumRotatableBonds(mol),\n",
    "    }\n",
    "    return descriptors\n",
    "\n",
    "# Применение функции к данным\n",
    "corneal['descriptors'] = corneal['SMILES'].apply(smiles_to_descriptors)\n",
    "descriptors_df = pd.json_normalize(corneal['descriptors'])\n",
    "data = pd.concat([corneal, descriptors_df], axis=1)"
   ]
  },
  {
   "cell_type": "code",
   "execution_count": 18,
   "metadata": {},
   "outputs": [],
   "source": [
    "from sklearn.model_selection import train_test_split\n",
    "\n",
    "X = data.drop(['SMILES', 'logPerm', 'descriptors'], axis=1)\n",
    "y = data['logPerm']\n",
    "X_train, X_test, y_train, y_test = train_test_split(X, y, test_size=0.2, random_state=42)"
   ]
  },
  {
   "cell_type": "code",
   "execution_count": null,
   "metadata": {},
   "outputs": [
    {
     "name": "stdout",
     "output_type": "stream",
     "text": [
      "MSE: 1.4342984984816705, R2: 0.4302994420749725\n"
     ]
    }
   ],
   "source": [
    "from sklearn.ensemble import RandomForestRegressor\n",
    "from sklearn.metrics import mean_squared_error, r2_score\n",
    "\n",
    "\n",
    "\n",
    "model = RandomForestRegressor(n_estimators=100, random_state=42)\n",
    "model.fit(X_train, y_train)\n",
    "\n",
    "# Предсказание на тестовой выборке\n",
    "y_pred = model.predict(X_test)\n",
    "\n",
    "# Оценка модели\n",
    "mse = mean_squared_error(y_test, y_pred)\n",
    "r2 = r2_score(y_test, y_pred)\n",
    "print(f'MSE: {mse}, R2: {r2}')"
   ]
  },
  {
   "cell_type": "code",
   "execution_count": 20,
   "metadata": {},
   "outputs": [
    {
     "name": "stdout",
     "output_type": "stream",
     "text": [
      "             feature  importance\n",
      "1               LogP    0.594256\n",
      "0              MolWt    0.197352\n",
      "4  NumRotatableBonds    0.085039\n",
      "3      NumHAcceptors    0.079561\n",
      "2         NumHDonors    0.043792\n"
     ]
    }
   ],
   "source": [
    "importances = model.feature_importances_\n",
    "feature_importance = pd.DataFrame({'feature': X.columns, 'importance': importances})\n",
    "feature_importance = feature_importance.sort_values('importance', ascending=False)\n",
    "print(feature_importance)"
   ]
  },
  {
   "cell_type": "code",
   "execution_count": 21,
   "metadata": {},
   "outputs": [
    {
     "name": "stdout",
     "output_type": "stream",
     "text": [
      "MSE: 1.4342984984816705, R2: 0.4302994420749725\n",
      "             feature  importance\n",
      "1               LogP    0.594256\n",
      "0              MolWt    0.197352\n",
      "4  NumRotatableBonds    0.085039\n",
      "3      NumHAcceptors    0.079561\n",
      "2         NumHDonors    0.043792\n"
     ]
    }
   ],
   "source": [
    "import pandas as pd\n",
    "from rdkit import Chem\n",
    "from rdkit.Chem import Descriptors\n",
    "from sklearn.model_selection import train_test_split\n",
    "from sklearn.ensemble import RandomForestRegressor\n",
    "from sklearn.metrics import mean_squared_error, r2_score\n",
    "\n",
    "# Загрузка данных\n",
    "data = pd.read_csv('corneal.csv')\n",
    "\n",
    "# Извлечение дескрипторов\n",
    "def smiles_to_descriptors(smiles):\n",
    "    mol = Chem.MolFromSmiles(smiles)\n",
    "    if mol is None:\n",
    "        return None\n",
    "    descriptors = {\n",
    "        'MolWt': Descriptors.MolWt(mol),\n",
    "        'LogP': Descriptors.MolLogP(mol),\n",
    "        'NumHDonors': Descriptors.NumHDonors(mol),\n",
    "        'NumHAcceptors': Descriptors.NumHAcceptors(mol),\n",
    "        'NumRotatableBonds': Descriptors.NumRotatableBonds(mol),\n",
    "    }\n",
    "    return descriptors\n",
    "\n",
    "data['descriptors'] = data['SMILES'].apply(smiles_to_descriptors)\n",
    "descriptors_df = pd.json_normalize(data['descriptors'])\n",
    "data = pd.concat([data, descriptors_df], axis=1)\n",
    "\n",
    "# Подготовка данных\n",
    "X = data.drop(['SMILES', 'logPerm', 'descriptors'], axis=1)\n",
    "y = data['logPerm']\n",
    "X_train, X_test, y_train, y_test = train_test_split(X, y, test_size=0.2, random_state=42)\n",
    "\n",
    "# Обучение модели\n",
    "model = RandomForestRegressor(n_estimators=100, random_state=42)\n",
    "model.fit(X_train, y_train)\n",
    "\n",
    "# Оценка модели\n",
    "y_pred = model.predict(X_test)\n",
    "mse = mean_squared_error(y_test, y_pred)\n",
    "r2 = r2_score(y_test, y_pred)\n",
    "print(f'MSE: {mse}, R2: {r2}')\n",
    "\n",
    "# Важность признаков\n",
    "importances = model.feature_importances_\n",
    "feature_importance = pd.DataFrame({'feature': X.columns, 'importance': importances})\n",
    "feature_importance = feature_importance.sort_values('importance', ascending=False)\n",
    "print(feature_importance)"
   ]
  },
  {
   "cell_type": "code",
   "execution_count": 30,
   "metadata": {},
   "outputs": [
    {
     "name": "stdout",
     "output_type": "stream",
     "text": [
      "Лучшие параметры: {'max_depth': 20, 'max_features': None, 'min_samples_leaf': 8, 'min_samples_split': 5, 'n_estimators': 409}\n",
      "Лучший R² на кросс-валидации: 0.21507664557265277\n",
      "Тестовый R²: 0.5364757420623669\n"
     ]
    }
   ],
   "source": [
    "from sklearn.model_selection import RandomizedSearchCV\n",
    "from scipy.stats import randint\n",
    "\n",
    "# Параметры для поиска\n",
    "param_dist = {\n",
    "    'n_estimators': randint(50, 500),\n",
    "    'max_depth': [None, 10, 20, 30],\n",
    "    'min_samples_split': randint(2, 20),\n",
    "    'min_samples_leaf': randint(1, 10),\n",
    "    'max_features': ['sqrt', 'log2', None]\n",
    "}\n",
    "\n",
    "# Модель\n",
    "rf = RandomForestRegressor(random_state=42)\n",
    "\n",
    "# Поиск\n",
    "search = RandomizedSearchCV(\n",
    "    rf, \n",
    "    param_distributions=param_dist,\n",
    "    n_iter=50,\n",
    "    cv=5,\n",
    "    scoring='r2',\n",
    "    random_state=42,\n",
    "    n_jobs=-1\n",
    ")\n",
    "search.fit(X_train, y_train)\n",
    "\n",
    "# Лучшие параметры\n",
    "print(\"Лучшие параметры:\", search.best_params_)\n",
    "print(\"Лучший R² на кросс-валидации:\", search.best_score_)\n",
    "\n",
    "# Оценка на тестовых данных\n",
    "best_rf = search.best_estimator_\n",
    "y_pred = best_rf.predict(X_test)\n",
    "print(\"Тестовый R²:\", r2_score(y_test, y_pred))"
   ]
  },
  {
   "cell_type": "code",
   "execution_count": 28,
   "metadata": {},
   "outputs": [
    {
     "name": "stderr",
     "output_type": "stream",
     "text": [
      "  7%|▋         | 8/120 [00:23<06:33,  3.51s/it]"
     ]
    },
    {
     "name": "stdout",
     "output_type": "stream",
     "text": [
      "c:\\Users\\Dell\\AppData\\Local\\Programs\\Python\\Python311\\Lib\\site-packages\\numpy\\core\\fromnumeric.py:88: RuntimeWarning: overflow encountered in reduce\n",
      "  return ufunc.reduce(obj, axis, dtype, out, **passkwargs)\n"
     ]
    },
    {
     "name": "stderr",
     "output_type": "stream",
     "text": [
      " 89%|████████▉ | 107/120 [00:24<00:01, 11.64it/s]"
     ]
    },
    {
     "name": "stdout",
     "output_type": "stream",
     "text": [
      "c:\\Users\\Dell\\AppData\\Local\\Programs\\Python\\Python311\\Lib\\site-packages\\numpy\\core\\fromnumeric.py:88: RuntimeWarning: overflow encountered in reduce\n",
      "  return ufunc.reduce(obj, axis, dtype, out, **passkwargs)\n"
     ]
    },
    {
     "name": "stderr",
     "output_type": "stream",
     "text": [
      "100%|██████████| 120/120 [00:25<00:00,  4.78it/s]\n"
     ]
    }
   ],
   "source": [
    "from mordred import Calculator, descriptors\n",
    "\n",
    "# Инициализация калькулятора\n",
    "calc = Calculator(descriptors, ignore_3D=True)\n",
    "mol_list = [Chem.MolFromSmiles(smi) for smi in data['SMILES']]\n",
    "\n",
    "# Вычисление дескрипторов\n",
    "mordred_features = calc.pandas(mol_list)\n",
    "mordred_features = mordred_features.astype(float)\n",
    "\n",
    "# Объединение с исходными данными\n",
    "data_extended = pd.concat([data, mordred_features], axis=1)"
   ]
  },
  {
   "cell_type": "code",
   "execution_count": 29,
   "metadata": {},
   "outputs": [
    {
     "name": "stdout",
     "output_type": "stream",
     "text": [
      "Лучшие параметры: {'learning_rate': 0.01, 'max_depth': 3, 'min_samples_leaf': 1, 'n_estimators': 200}\n",
      "Лучший R²: 0.23626716123140126\n"
     ]
    }
   ],
   "source": [
    "from sklearn.ensemble import GradientBoostingRegressor\n",
    "from sklearn.model_selection import GridSearchCV\n",
    "\n",
    "# Параметры для поиска\n",
    "params = {\n",
    "    'n_estimators': [100, 200],\n",
    "    'learning_rate': [0.01, 0.1],\n",
    "    'max_depth': [3, 5],\n",
    "    'min_samples_leaf': [1, 2]\n",
    "}\n",
    "\n",
    "# Поиск\n",
    "gb = GradientBoostingRegressor(random_state=42)\n",
    "grid_search = GridSearchCV(gb, params, cv=5, scoring='r2', n_jobs=-1)\n",
    "grid_search.fit(X_train, y_train)\n",
    "\n",
    "# Результаты\n",
    "print(\"Лучшие параметры:\", grid_search.best_params_)\n",
    "print(\"Лучший R²:\", grid_search.best_score_)"
   ]
  },
  {
   "cell_type": "code",
   "execution_count": 25,
   "metadata": {},
   "outputs": [
    {
     "name": "stdout",
     "output_type": "stream",
     "text": [
      "R² с PCA: -0.4832756631775015\n"
     ]
    }
   ],
   "source": [
    "from sklearn.decomposition import PCA\n",
    "\n",
    "pca = PCA(n_components=0.95)  # Оставляем 95% дисперсии\n",
    "X_train_pca = pca.fit_transform(X_train)\n",
    "X_test_pca = pca.transform(X_test)\n",
    "\n",
    "# Обучение модели на PCA-признаках\n",
    "model_pca = RandomForestRegressor()\n",
    "model_pca.fit(X_train_pca, y_train)\n",
    "print(\"R² с PCA:\", model_pca.score(X_test_pca, y_test))"
   ]
  },
  {
   "cell_type": "code",
   "execution_count": 26,
   "metadata": {},
   "outputs": [
    {
     "data": {
      "text/plain": [
       "{'max_depth': 20,\n",
       " 'min_samples_leaf': 2,\n",
       " 'min_samples_split': 10,\n",
       " 'n_estimators': 300,\n",
       " 'max_features': 'sqrt'}"
      ]
     },
     "execution_count": 26,
     "metadata": {},
     "output_type": "execute_result"
    }
   ],
   "source": [
    "{'max_depth': 20, 'min_samples_leaf': 2, 'min_samples_split': 10, 'n_estimators': 300, 'max_features': 'sqrt'}"
   ]
  },
  {
   "cell_type": "code",
   "execution_count": 27,
   "metadata": {},
   "outputs": [
    {
     "ename": "NameError",
     "evalue": "name 'X_train_extended' is not defined",
     "output_type": "error",
     "traceback": [
      "\u001b[1;31m---------------------------------------------------------------------------\u001b[0m",
      "\u001b[1;31mNameError\u001b[0m                                 Traceback (most recent call last)",
      "Cell \u001b[1;32mIn[27], line 9\u001b[0m\n\u001b[0;32m      1\u001b[0m \u001b[38;5;66;03m# После подбора параметров и добавления дескрипторов\u001b[39;00m\n\u001b[0;32m      2\u001b[0m best_model \u001b[38;5;241m=\u001b[39m GradientBoostingRegressor(\n\u001b[0;32m      3\u001b[0m     n_estimators\u001b[38;5;241m=\u001b[39m\u001b[38;5;241m200\u001b[39m,\n\u001b[0;32m      4\u001b[0m     learning_rate\u001b[38;5;241m=\u001b[39m\u001b[38;5;241m0.1\u001b[39m,\n\u001b[1;32m   (...)\u001b[0m\n\u001b[0;32m      7\u001b[0m     random_state\u001b[38;5;241m=\u001b[39m\u001b[38;5;241m42\u001b[39m\n\u001b[0;32m      8\u001b[0m )\n\u001b[1;32m----> 9\u001b[0m best_model\u001b[38;5;241m.\u001b[39mfit(\u001b[43mX_train_extended\u001b[49m, y_train)\n\u001b[0;32m     10\u001b[0m y_pred \u001b[38;5;241m=\u001b[39m best_model\u001b[38;5;241m.\u001b[39mpredict(X_test_extended)\n\u001b[0;32m     11\u001b[0m \u001b[38;5;28mprint\u001b[39m(\u001b[38;5;124m\"\u001b[39m\u001b[38;5;124mИтоговый R²:\u001b[39m\u001b[38;5;124m\"\u001b[39m, r2_score(y_test, y_pred))  \u001b[38;5;66;03m# Например, 0.68\u001b[39;00m\n",
      "\u001b[1;31mNameError\u001b[0m: name 'X_train_extended' is not defined"
     ]
    }
   ],
   "source": [
    "# После подбора параметров и добавления дескрипторов\n",
    "best_model = GradientBoostingRegressor(\n",
    "    n_estimators=200,\n",
    "    learning_rate=0.1,\n",
    "    max_depth=5,\n",
    "    min_samples_leaf=2,\n",
    "    random_state=42\n",
    ")\n",
    "best_model.fit(X_train_extended, y_train)\n",
    "y_pred = best_model.predict(X_test_extended)\n",
    "print(\"Итоговый R²:\", r2_score(y_test, y_pred))  # Например, 0.68"
   ]
  },
  {
   "cell_type": "code",
   "execution_count": 31,
   "metadata": {},
   "outputs": [
    {
     "name": "stdout",
     "output_type": "stream",
     "text": [
      "Fitting 5 folds for each of 216 candidates, totalling 1080 fits\n",
      "Лучшие параметры: {'max_depth': None, 'max_features': 'sqrt', 'min_samples_leaf': 4, 'min_samples_split': 10, 'n_estimators': 100}\n",
      "R² на тестовых данных: 0.5856\n",
      "MSE на тестовых данных: 1.0434\n",
      "\n",
      "Важность признаков:\n",
      "             feature  importance\n",
      "1               LogP    0.472088\n",
      "3      NumHAcceptors    0.156487\n",
      "0              MolWt    0.153484\n",
      "4  NumRotatableBonds    0.110872\n",
      "2         NumHDonors    0.107069\n"
     ]
    }
   ],
   "source": [
    "import pandas as pd\n",
    "from rdkit import Chem\n",
    "from rdkit.Chem import Descriptors\n",
    "from sklearn.model_selection import train_test_split, GridSearchCV\n",
    "from sklearn.ensemble import RandomForestRegressor\n",
    "from sklearn.metrics import r2_score, mean_squared_error\n",
    "import numpy as np\n",
    "\n",
    "# Загрузка данных\n",
    "data = pd.read_csv('corneal.csv')\n",
    "\n",
    "# Функция для извлечения дескрипторов из SMILES\n",
    "def smiles_to_descriptors(smiles):\n",
    "    mol = Chem.MolFromSmiles(smiles)\n",
    "    if mol is None:\n",
    "        return None\n",
    "    descriptors = {\n",
    "        'MolWt': Descriptors.MolWt(mol),\n",
    "        'LogP': Descriptors.MolLogP(mol),\n",
    "        'NumHDonors': Descriptors.NumHDonors(mol),\n",
    "        'NumHAcceptors': Descriptors.NumHAcceptors(mol),\n",
    "        'NumRotatableBonds': Descriptors.NumRotatableBonds(mol),\n",
    "    }\n",
    "    return descriptors\n",
    "\n",
    "# Добавление дескрипторов в данные\n",
    "data['descriptors'] = data['SMILES'].apply(smiles_to_descriptors)\n",
    "descriptors_df = pd.json_normalize(data['descriptors'])\n",
    "data = pd.concat([data, descriptors_df], axis=1)\n",
    "\n",
    "# Подготовка данных\n",
    "X = data.drop(['SMILES', 'logPerm', 'descriptors'], axis=1)\n",
    "y = data['logPerm']\n",
    "X_train, X_test, y_train, y_test = train_test_split(X, y, test_size=0.2, random_state=42)\n",
    "\n",
    "# Определение сетки гиперпараметров\n",
    "param_grid = {\n",
    "    'n_estimators': [100, 200, 300],  # Количество деревьев\n",
    "    'max_depth': [None, 10, 20, 30],   # Максимальная глубина\n",
    "    'min_samples_split': [2, 5, 10],    # Минимальное число образцов для разделения\n",
    "    'min_samples_leaf': [1, 2, 4],      # Минимальное число образцов в листе\n",
    "    'max_features': ['sqrt', 'log2']    # Количество признаков для разделения\n",
    "}\n",
    "\n",
    "# Инициализация модели\n",
    "rf = RandomForestRegressor(random_state=42)\n",
    "\n",
    "# Поиск по сетке с кросс-валидацией (cv=5)\n",
    "grid_search = GridSearchCV(\n",
    "    estimator=rf,\n",
    "    param_grid=param_grid,\n",
    "    cv=5,\n",
    "    scoring='r2',\n",
    "    n_jobs=-1,  # Использование всех ядер CPU\n",
    "    verbose=2\n",
    ")\n",
    "\n",
    "# Запуск поиска\n",
    "grid_search.fit(X_train, y_train)\n",
    "\n",
    "# Лучшие параметры\n",
    "print(\"Лучшие параметры:\", grid_search.best_params_)\n",
    "\n",
    "# Оценка лучшей модели\n",
    "best_rf = grid_search.best_estimator_\n",
    "y_pred = best_rf.predict(X_test)\n",
    "r2 = r2_score(y_test, y_pred)\n",
    "mse = mean_squared_error(y_test, y_pred)\n",
    "\n",
    "print(f\"R² на тестовых данных: {r2:.4f}\")\n",
    "print(f\"MSE на тестовых данных: {mse:.4f}\")\n",
    "\n",
    "# Важность признаков\n",
    "importances = best_rf.feature_importances_\n",
    "feature_importance = pd.DataFrame({'feature': X.columns, 'importance': importances})\n",
    "feature_importance = feature_importance.sort_values('importance', ascending=False)\n",
    "print(\"\\nВажность признаков:\")\n",
    "print(feature_importance.head(10))"
   ]
  }
 ],
 "metadata": {
  "kernelspec": {
   "display_name": "Python 3",
   "language": "python",
   "name": "python3"
  },
  "language_info": {
   "codemirror_mode": {
    "name": "ipython",
    "version": 3
   },
   "file_extension": ".py",
   "mimetype": "text/x-python",
   "name": "python",
   "nbconvert_exporter": "python",
   "pygments_lexer": "ipython3",
   "version": "3.11.0"
  }
 },
 "nbformat": 4,
 "nbformat_minor": 2
}
